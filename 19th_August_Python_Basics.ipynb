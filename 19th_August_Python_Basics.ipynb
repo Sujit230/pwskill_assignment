{
 "cells": [
  {
   "cell_type": "code",
   "execution_count": null,
   "metadata": {},
   "outputs": [],
   "source": [
    "# Swap the values of these variables without using any temporary variable\n",
    "\n",
    "a = int(input('enter first input'))\n",
    "b =int(input('enter second input'))\n",
    "\n",
    "a= a+b\n",
    "b =a-b\n",
    "a  = a-b\n",
    "print(\"after swap values are : \" + str(a) + \" and \"+ str(b) ) \n",
    " "
   ]
  },
  {
   "cell_type": "code",
   "execution_count": null,
   "metadata": {},
   "outputs": [],
   "source": [
    "# Calculate and display the area\n",
    "\n",
    "width_rect = int(input('enter width of rectangle'))\n",
    "height_rect = int(input('enter height of rectangle'))\n",
    "area_rect = width_rect * height_rect\n",
    "print('area of rectangle : '+ str(area_rect))"
   ]
  },
  {
   "cell_type": "code",
   "execution_count": null,
   "metadata": {},
   "outputs": [],
   "source": [
    "# program that converts temperatures from Celsius to Fahrenheit\n",
    "\n",
    "temp_inFarehenit = int(input('enter the recorded temp.'))\n",
    "temp_inCelsius = (temp_inFarehenit-32) * 0.555\n",
    "print('temp in celsius is ' + str(temp_inCelsius) +'°C' )"
   ]
  },
  {
   "cell_type": "code",
   "execution_count": null,
   "metadata": {},
   "outputs": [],
   "source": [
    "# program that takes a string as input and prints the length of the string\n",
    " \n",
    "recieved_str = input('please enter your words :')\n",
    "recieved_str= recieved_str.strip()\n",
    "len(recieved_str)"
   ]
  },
  {
   "cell_type": "code",
   "execution_count": null,
   "metadata": {},
   "outputs": [],
   "source": [
    "# program that takes a sentence from the user and counts the number of vowels (a, e, i, o, u) in the string"
   ]
  },
  {
   "cell_type": "code",
   "execution_count": null,
   "metadata": {},
   "outputs": [],
   "source": [
    "sen_rcvd=input('please enter your sentence :')\n",
    "print(sen_rcvd)\n",
    "vowel_list = ['a','e','i','o','u']\n",
    "for a in vowel_list:\n",
    "    count = sen_rcvd.count(a)\n",
    "    print('frequency of vowel  ' + a + ' is ' + str(count))"
   ]
  },
  {
   "cell_type": "code",
   "execution_count": null,
   "metadata": {},
   "outputs": [],
   "source": [
    "# Given a string, reverse the order of characters using string slicing and print the reversed string"
   ]
  },
  {
   "cell_type": "code",
   "execution_count": null,
   "metadata": {},
   "outputs": [],
   "source": [
    "rcvd_input = input('enter your string ')\n",
    "reverse_inp=rcvd_input[::-1]\n",
    "print('reverse string : ' + reverse_inp)"
   ]
  },
  {
   "cell_type": "code",
   "execution_count": null,
   "metadata": {},
   "outputs": [],
   "source": [
    "# Write a program that takes a string as input and checks if it is a palindrome"
   ]
  },
  {
   "cell_type": "code",
   "execution_count": null,
   "metadata": {},
   "outputs": [],
   "source": [
    "key_inp = input('enter your string')\n",
    "rev_inp = key_inp[::-1]\n",
    "if rev_inp == key_inp:\n",
    "    print('its pallindrome number')\n",
    "else:\n",
    "    print(' not a pallindrome no')\n",
    " \n"
   ]
  },
  {
   "cell_type": "code",
   "execution_count": null,
   "metadata": {},
   "outputs": [],
   "source": [
    "# Create a program that takes a string as input and removes all the spaces from it. Print the modified string without spaces"
   ]
  },
  {
   "cell_type": "code",
   "execution_count": null,
   "metadata": {},
   "outputs": [],
   "source": [
    "enter_inp = input('enter ur string :')\n",
    "trimmed_enter_inp=enter_inp.strip()\n",
    "conv_Str=trimmed_enter_inp.replace(' ','')\n",
    "print(conv_Str)\n"
   ]
  },
  {
   "cell_type": "code",
   "execution_count": null,
   "metadata": {},
   "outputs": [],
   "source": []
  }
 ],
 "metadata": {
  "kernelspec": {
   "display_name": "Python 3",
   "language": "python",
   "name": "python3"
  },
  "language_info": {
   "codemirror_mode": {
    "name": "ipython",
    "version": 3
   },
   "file_extension": ".py",
   "mimetype": "text/x-python",
   "name": "python",
   "nbconvert_exporter": "python",
   "pygments_lexer": "ipython3",
   "version": "3.6.2"
  }
 },
 "nbformat": 4,
 "nbformat_minor": 2
}
